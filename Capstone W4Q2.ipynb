{
 "cells": [
  {
   "cell_type": "markdown",
   "metadata": {},
   "source": [
    "# Data Description"
   ]
  },
  {
   "cell_type": "markdown",
   "metadata": {},
   "source": [
    "The following data will be collected for this analysis:\n",
    "\n",
    "    * Neighborhood details for Toronto and New York City (latitude, longitude, demographics)\n",
    "        - Used to identify potential market size, in terms of population and target market\n",
    "    * Venues for each neighborhood (cafes, coffee shops)\n",
    "        - Used to identify market saturation and current level of competition\n",
    "    * Information on each venue (ratings, reviews)\n",
    "        - Used to identify where current competition is satisfying market needs\n"
   ]
  }
 ],
 "metadata": {
  "kernelspec": {
   "display_name": "Python 3",
   "language": "python",
   "name": "python3"
  },
  "language_info": {
   "codemirror_mode": {
    "name": "ipython",
    "version": 3
   },
   "file_extension": ".py",
   "mimetype": "text/x-python",
   "name": "python",
   "nbconvert_exporter": "python",
   "pygments_lexer": "ipython3",
   "version": "3.7.0"
  }
 },
 "nbformat": 4,
 "nbformat_minor": 2
}
